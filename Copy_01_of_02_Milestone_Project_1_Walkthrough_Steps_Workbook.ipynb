{
  "nbformat": 4,
  "nbformat_minor": 0,
  "metadata": {
    "kernelspec": {
      "display_name": "Python 3",
      "language": "python",
      "name": "python3"
    },
    "language_info": {
      "codemirror_mode": {
        "name": "ipython",
        "version": 3
      },
      "file_extension": ".py",
      "mimetype": "text/x-python",
      "name": "python",
      "nbconvert_exporter": "python",
      "pygments_lexer": "ipython3",
      "version": "3.6.2"
    },
    "colab": {
      "name": "Copy 01 of 02-Milestone Project 1 - Walkthrough Steps Workbook.ipynb",
      "provenance": [],
      "include_colab_link": true
    }
  },
  "cells": [
    {
      "cell_type": "markdown",
      "metadata": {
        "id": "view-in-github",
        "colab_type": "text"
      },
      "source": [
        "<a href=\"https://colab.research.google.com/github/JoeyAviles89z/Complete-Python-3-Bootcamp/blob/master/Copy_01_of_02_Milestone_Project_1_Walkthrough_Steps_Workbook.ipynb\" target=\"_parent\"><img src=\"https://colab.research.google.com/assets/colab-badge.svg\" alt=\"Open In Colab\"/></a>"
      ]
    },
    {
      "cell_type": "markdown",
      "metadata": {
        "id": "thxuRL3dlqtN",
        "colab_type": "text"
      },
      "source": [
        "# Milestone Project 1: Walkthrough Steps Workbook\n",
        "\n",
        "Below is a set of steps for you to follow to try to create the Tic Tac Toe Milestone Project game!"
      ]
    },
    {
      "cell_type": "markdown",
      "metadata": {
        "id": "p-VfvsO6lqtQ",
        "colab_type": "text"
      },
      "source": [
        "#### Some suggested tools before you get started:\n",
        "To take input from a user:\n",
        "\n",
        "    player1 = input(\"Please pick a marker 'X' or 'O'\")\n",
        "    \n",
        "Note that input() takes in a string. If you need an integer value, use\n",
        "\n",
        "    position = int(input('Please enter a number'))\n",
        "    \n",
        "<br>To clear the screen between moves:\n",
        "\n",
        "    from IPython.display import clear_output\n",
        "    clear_output()\n",
        "    \n",
        "Note that clear_output() will only work in jupyter. To clear the screen in other IDEs, consider:\n",
        "\n",
        "    print('\\n'*100)\n",
        "    \n",
        "This scrolls the previous board up out of view. Now on to the program!"
      ]
    },
    {
      "cell_type": "markdown",
      "metadata": {
        "id": "PYZguqoSlqtR",
        "colab_type": "text"
      },
      "source": [
        "**Step 1: Write a function that can print out a board. Set up your board as a list, where each index 1-9 corresponds with a number on a number pad, so you get a 3 by 3 board representation.**"
      ]
    },
    {
      "cell_type": "code",
      "metadata": {
        "id": "Jcw84ZsqlqtR",
        "colab_type": "code",
        "colab": {}
      },
      "source": [
        "from IPython.display import clear_output\n",
        "\n",
        "def display_board(board):\n",
        "    clear_output()\n",
        "    print(board[7] + '|' +board[8] + '|' +board[9])\n",
        "    print(board[4] + '|' +board[5] + '|' +board[6])\n",
        "    print(board[1] + '|' +board[2] + '|' +board[3])\n",
        "\n",
        "\n",
        "\n",
        "\n",
        "\n",
        "\n"
      ],
      "execution_count": 0,
      "outputs": []
    },
    {
      "cell_type": "markdown",
      "metadata": {
        "id": "qKXTCl6klqtY",
        "colab_type": "text"
      },
      "source": [
        "**TEST Step 1:** run your function on a test version of the board list, and make adjustments as necessary"
      ]
    },
    {
      "cell_type": "code",
      "metadata": {
        "id": "6--ohCPElqtZ",
        "colab_type": "code",
        "colab": {
          "base_uri": "https://localhost:8080/",
          "height": 67
        },
        "outputId": "57089c48-3127-4e8c-86eb-8257ae9f82c4"
      },
      "source": [
        "test_board = ['#','X','O','X','O','X','O','X','O','X']\n",
        "display_board(test_board)"
      ],
      "execution_count": 6,
      "outputs": [
        {
          "output_type": "stream",
          "text": [
            "X|O|X\n",
            "O|X|O\n",
            "X|O|X\n"
          ],
          "name": "stdout"
        }
      ]
    },
    {
      "cell_type": "markdown",
      "metadata": {
        "id": "v_WhPMBBlqtd",
        "colab_type": "text"
      },
      "source": [
        "**Step 2: Write a function that can take in a player input and assign their marker as 'X' or 'O'. Think about using *while* loops to continually ask until you get a correct answer.**"
      ]
    },
    {
      "cell_type": "code",
      "metadata": {
        "id": "ql8th4cRlqte",
        "colab_type": "code",
        "colab": {}
      },
      "source": [
        "def player_input():\n",
        "\n",
        "  '''\n",
        "  OUTPUT = (player 1 marker, player 2 marker)\n",
        "  '''\n",
        "  marker = ''\n",
        "\n",
        "  #Keep asking player 1 to choose X or 0\n",
        "\n",
        "  while marker != 'X' and marker != 'O':\n",
        "    marker = input('Player 1: choose X or O:').upper()\n",
        "\n",
        "  if marker == 'X':\n",
        "    return ('X', 'O')\n",
        "  else:\n",
        "    return ('O', 'X')\n",
        "\n",
        "\n",
        "    \n",
        "    "
      ],
      "execution_count": 0,
      "outputs": []
    },
    {
      "cell_type": "markdown",
      "metadata": {
        "id": "8Stn5TxNlqth",
        "colab_type": "text"
      },
      "source": [
        "**TEST Step 2:** run the function to make sure it returns the desired output"
      ]
    },
    {
      "cell_type": "code",
      "metadata": {
        "id": "E2-96-zjlqti",
        "colab_type": "code",
        "colab": {
          "base_uri": "https://localhost:8080/",
          "height": 33
        },
        "outputId": "91531421-2490-4eaa-abd5-20e7c55f7454"
      },
      "source": [
        "player1_marker, player2_marker = player_input()"
      ],
      "execution_count": 15,
      "outputs": [
        {
          "output_type": "stream",
          "text": [
            "Player 1: choose X or O:o\n"
          ],
          "name": "stdout"
        }
      ]
    },
    {
      "cell_type": "code",
      "metadata": {
        "id": "SpP1Cf9itaNc",
        "colab_type": "code",
        "colab": {
          "base_uri": "https://localhost:8080/",
          "height": 33
        },
        "outputId": "35c9a5d5-40f8-4d99-bc0f-47738e15690b"
      },
      "source": [
        "player2_marker"
      ],
      "execution_count": 16,
      "outputs": [
        {
          "output_type": "execute_result",
          "data": {
            "text/plain": [
              "'X'"
            ]
          },
          "metadata": {
            "tags": []
          },
          "execution_count": 16
        }
      ]
    },
    {
      "cell_type": "markdown",
      "metadata": {
        "id": "8Sxlc4sLlqtp",
        "colab_type": "text"
      },
      "source": [
        "**Step 3: Write a function that takes in the board list object, a marker ('X' or 'O'), and a desired position (number 1-9) and assigns it to the board.**"
      ]
    },
    {
      "cell_type": "code",
      "metadata": {
        "id": "Eaz40SVflqtq",
        "colab_type": "code",
        "colab": {}
      },
      "source": [
        "def place_marker(board, marker, position):\n",
        "  board[position] = marker\n",
        "\n",
        "    \n",
        "    "
      ],
      "execution_count": 0,
      "outputs": []
    },
    {
      "cell_type": "markdown",
      "metadata": {
        "id": "CxlWGVNplqtu",
        "colab_type": "text"
      },
      "source": [
        "**TEST Step 3:** run the place marker function using test parameters and display the modified board"
      ]
    },
    {
      "cell_type": "code",
      "metadata": {
        "id": "F5sCpySYupmq",
        "colab_type": "code",
        "colab": {
          "base_uri": "https://localhost:8080/",
          "height": 33
        },
        "outputId": "bcb0d3d7-39d6-43c6-da05-c74f8f9712dd"
      },
      "source": [
        "test_board"
      ],
      "execution_count": 18,
      "outputs": [
        {
          "output_type": "execute_result",
          "data": {
            "text/plain": [
              "['#', 'X', 'O', 'X', 'O', 'X', 'O', 'X', 'O', 'X']"
            ]
          },
          "metadata": {
            "tags": []
          },
          "execution_count": 18
        }
      ]
    },
    {
      "cell_type": "code",
      "metadata": {
        "id": "Qyt8S1czlqtv",
        "colab_type": "code",
        "colab": {
          "base_uri": "https://localhost:8080/",
          "height": 67
        },
        "outputId": "7528eca5-be26-4c7a-c4e8-6689b4354fb1"
      },
      "source": [
        "place_marker(test_board,'$',8)\n",
        "display_board(test_board)"
      ],
      "execution_count": 19,
      "outputs": [
        {
          "output_type": "stream",
          "text": [
            "X|$|X\n",
            "O|X|O\n",
            "X|O|X\n"
          ],
          "name": "stdout"
        }
      ]
    },
    {
      "cell_type": "markdown",
      "metadata": {
        "id": "Av6rtiu6lqtx",
        "colab_type": "text"
      },
      "source": [
        "**Step 4: Write a function that takes in a board and a mark (X or O) and then checks to see if that mark has won. **"
      ]
    },
    {
      "cell_type": "code",
      "metadata": {
        "id": "DvstNzlFlqty",
        "colab_type": "code",
        "colab": {}
      },
      "source": [
        "def win_check(board, mark):\n",
        "    \n",
        "    # WIN TIC TAC TOE?\n",
        "\n",
        "    #ALL ROWS, and check to see if they all share the same marker?\n",
        "    #ALL COLUMNS, check to see if marker matches\n",
        "    # 2 diagonals, check to see match\n",
        "    return ((board[7] == mark and board[8] == mark and board[9] == mark) or\n",
        "            (board[4] == mark and board[5] == mark and board[6] == mark) or\n",
        "            (board[1] == mark and board[2] == mark and board[3] == mark) or\n",
        "            (board[7] == mark and board[4] == mark and board[1] == mark) or\n",
        "            (board[8] == mark and board[5] == mark and board[2] == mark) or\n",
        "            (board[9] == mark and board[6] == mark and board[3] == mark) or\n",
        "            (board[7] == mark and board[5] == mark and board[3] == mark) or\n",
        "            (board[9] == mark and board[5] == mark and board[1] == mark))"
      ],
      "execution_count": 0,
      "outputs": []
    },
    {
      "cell_type": "markdown",
      "metadata": {
        "id": "_BuvUJxplqt2",
        "colab_type": "text"
      },
      "source": [
        "**TEST Step 4:** run the win_check function against our test_board - it should return True"
      ]
    },
    {
      "cell_type": "code",
      "metadata": {
        "id": "StzgXDVQlqt5",
        "colab_type": "code",
        "colab": {
          "base_uri": "https://localhost:8080/",
          "height": 83
        },
        "outputId": "c9f013ff-e5cf-48a2-a7e1-7e9e0c8fd65d"
      },
      "source": [
        "display_board(test_board)\n",
        "win_check(test_board,'X')"
      ],
      "execution_count": 22,
      "outputs": [
        {
          "output_type": "stream",
          "text": [
            "X|$|X\n",
            "O|X|O\n",
            "X|O|X\n"
          ],
          "name": "stdout"
        },
        {
          "output_type": "execute_result",
          "data": {
            "text/plain": [
              "True"
            ]
          },
          "metadata": {
            "tags": []
          },
          "execution_count": 22
        }
      ]
    },
    {
      "cell_type": "markdown",
      "metadata": {
        "id": "EmrDTDYnlqt7",
        "colab_type": "text"
      },
      "source": [
        "**Step 5: Write a function that uses the random module to randomly decide which player goes first. You may want to lookup random.randint() Return a string of which player went first.**"
      ]
    },
    {
      "cell_type": "code",
      "metadata": {
        "id": "VOi0wkSPlqt8",
        "colab_type": "code",
        "colab": {}
      },
      "source": [
        "import random\n",
        "\n",
        "def choose_first():\n",
        "    flip = random.randint(0, 1)\n",
        "\n",
        "    if flip == 0:\n",
        "      return 'Player 1'\n",
        "    else:\n",
        "      return 'Player 2'"
      ],
      "execution_count": 0,
      "outputs": []
    },
    {
      "cell_type": "markdown",
      "metadata": {
        "id": "ajFUy11Llqt-",
        "colab_type": "text"
      },
      "source": [
        "**Step 6: Write a function that returns a boolean indicating whether a space on the board is freely available.**"
      ]
    },
    {
      "cell_type": "code",
      "metadata": {
        "id": "qP6LDvUtlqt_",
        "colab_type": "code",
        "colab": {}
      },
      "source": [
        "def space_check(board, position):\n",
        "    \n",
        "    return board[position] == ''"
      ],
      "execution_count": 0,
      "outputs": []
    },
    {
      "cell_type": "markdown",
      "metadata": {
        "id": "mqYc0nmylquB",
        "colab_type": "text"
      },
      "source": [
        "**Step 7: Write a function that checks if the board is full and returns a boolean value. True if full, False otherwise.**"
      ]
    },
    {
      "cell_type": "code",
      "metadata": {
        "id": "16DmFCSplquC",
        "colab_type": "code",
        "colab": {}
      },
      "source": [
        "def full_board_check(board):\n",
        "    \n",
        "    for i in range(1, 10):\n",
        "      if space_check(board, i):\n",
        "        return False\n",
        "\n",
        "    # BOARD IS FULL IF WE RETURN TRUE\n",
        "    return True"
      ],
      "execution_count": 0,
      "outputs": []
    },
    {
      "cell_type": "markdown",
      "metadata": {
        "id": "8SJldxiHlquJ",
        "colab_type": "text"
      },
      "source": [
        "**Step 8: Write a function that asks for a player's next position (as a number 1-9) and then uses the function from step 6 to check if it's a free position. If it is, then return the position for later use.**"
      ]
    },
    {
      "cell_type": "code",
      "metadata": {
        "id": "0XKw457BlquK",
        "colab_type": "code",
        "colab": {}
      },
      "source": [
        "def player_choice(board):\n",
        "    \n",
        "    position = 0\n",
        "\n",
        "    while position not in [1, 2, 3, 4, 5, 6, 7, 8, 9] or not space_check(board, position):\n",
        "      position = int(input('Choose a position: (1-9) '))\n",
        "    return position"
      ],
      "execution_count": 0,
      "outputs": []
    },
    {
      "cell_type": "markdown",
      "metadata": {
        "id": "BCWm9-HplquN",
        "colab_type": "text"
      },
      "source": [
        "**Step 9: Write a function that asks the player if they want to play again and returns a boolean True if they do want to play again.**"
      ]
    },
    {
      "cell_type": "code",
      "metadata": {
        "id": "oYru5AMrlquO",
        "colab_type": "code",
        "colab": {}
      },
      "source": [
        "def replay():\n",
        "    \n",
        "    choice = input(\"Play again? Enter Yes or No\")\n",
        "    return choice == 'Yes'"
      ],
      "execution_count": 0,
      "outputs": []
    },
    {
      "cell_type": "markdown",
      "metadata": {
        "collapsed": true,
        "id": "mZv24SFDlquQ",
        "colab_type": "text"
      },
      "source": [
        "**Step 10: Here comes the hard part! Use while loops and the functions you've made to run the game!**"
      ]
    },
    {
      "cell_type": "code",
      "metadata": {
        "id": "qBEHrlEZlquQ",
        "colab_type": "code",
        "colab": {
          "base_uri": "https://localhost:8080/",
          "height": 67
        },
        "outputId": "47820680-b999-41ff-f766-33a376c57464"
      },
      "source": [
        "print('Welcome to Tic Tac Toe!')\n",
        "\n",
        "while True:\n",
        "\n",
        "\n",
        "  the_board = ['']*10\n",
        "  player1_marker, player2_marker = player_input()\n",
        "\n",
        "  turn = choose_first()\n",
        "  print(turn + ' will go first')\n",
        "\n",
        "  play_game = input('Ready to play? y or n? ')\n",
        "\n",
        "  if play_game == 'y':\n",
        "    game_on = True\n",
        "  else:\n",
        "    game_on = False\n",
        "\n",
        "  ## GAME PLAY\n",
        "\n",
        "  while game_on:\n",
        "    if turn == 'Player 1':\n",
        "      display_board(the_board)\n",
        "      position = player_choice(the_board)\n",
        "      place_marker(the_board, player1_marker, position)\n",
        "\n",
        "      if win_check(the_board, player1_marker):\n",
        "        display_board(the_board)\n",
        "        print('PLAYER 1 HAS WON!!')\n",
        "        game_on = False\n",
        "\n",
        "      else:\n",
        "        if full_board_check(the_board):\n",
        "          display_board(the_board)\n",
        "          print(\"TIE GAME!\")\n",
        "          game_on = False\n",
        "        else:\n",
        "          turn = 'Player 2'\n",
        "\n",
        "\n",
        "    else:\n",
        "        display_board(the_board)\n",
        "        position = player_choice(the_board)\n",
        "        place_marker(the_board, player2_marker, position)\n",
        "\n",
        "        if win_check(the_board, player2_marker):\n",
        "          display_board(the_board)\n",
        "          print('PLAYER 2 HAS WON!!')\n",
        "          game_on = False\n",
        "\n",
        "        else:\n",
        "          if full_board_check(the_board):\n",
        "            display_board(the_board)\n",
        "            print(\"TIE GAME!\")\n",
        "            game_on = False\n",
        "          else:\n",
        "            turn = 'Player 1'\n",
        "        \n",
        "        \n",
        "        # Player2's turn.\n",
        "            \n",
        "            #pass\n",
        "\n",
        "    #if not replay():\n",
        "        #break"
      ],
      "execution_count": 0,
      "outputs": [
        {
          "output_type": "stream",
          "text": [
            "||X\n",
            "|X|\n",
            "O||O\n"
          ],
          "name": "stdout"
        }
      ]
    },
    {
      "cell_type": "markdown",
      "metadata": {
        "collapsed": true,
        "id": "ohvcTcN4lquU",
        "colab_type": "text"
      },
      "source": [
        "## Good Job!"
      ]
    }
  ]
}